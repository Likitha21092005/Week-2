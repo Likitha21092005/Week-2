{
  "nbformat": 4,
  "nbformat_minor": 0,
  "metadata": {
    "colab": {
      "provenance": [],
      "authorship_tag": "ABX9TyNx1brGNKF7xKUcqPdXOM1m",
      "include_colab_link": true
    },
    "kernelspec": {
      "name": "python3",
      "display_name": "Python 3"
    },
    "language_info": {
      "name": "python"
    }
  },
  "cells": [
    {
      "cell_type": "markdown",
      "metadata": {
        "id": "view-in-github",
        "colab_type": "text"
      },
      "source": [
        "<a href=\"https://colab.research.google.com/github/Likitha21092005/Week-2/blob/main/Two.ipynb\" target=\"_parent\"><img src=\"https://colab.research.google.com/assets/colab-badge.svg\" alt=\"Open In Colab\"/></a>"
      ]
    },
    {
      "cell_type": "code",
      "execution_count": 1,
      "metadata": {
        "colab": {
          "base_uri": "https://localhost:8080/"
        },
        "id": "rOW-SOuYRRKL",
        "outputId": "15b2b98b-b6c1-4abf-bd25-980ca3cc51df"
      },
      "outputs": [
        {
          "output_type": "stream",
          "name": "stdout",
          "text": [
            "2\n",
            "12.56\n"
          ]
        }
      ],
      "source": [
        "#Area of circle\n",
        "r=eval(input())\n",
        "def aoc(r):\n",
        "    area=3.14*r*r\n",
        "    return area\n",
        "print(aoc(r))"
      ]
    },
    {
      "cell_type": "code",
      "source": [
        "n=input(\"Enter a string\")\n",
        "def vowels(n):\n",
        "    vowels=\"aeiouAEIOU\"\n",
        "    c=0\n",
        "    for i in n:\n",
        "        if i in vowels:\n",
        "            c += 1\n",
        "    return c\n",
        "print(\"Number of vowels in the string:\",vowels(n) )"
      ],
      "metadata": {
        "colab": {
          "base_uri": "https://localhost:8080/"
        },
        "id": "MIIX_U__Re-i",
        "outputId": "42e628c0-40ee-421d-9eba-282bc00362c6"
      },
      "execution_count": 2,
      "outputs": [
        {
          "output_type": "stream",
          "name": "stdout",
          "text": [
            "Enter a stringabc\n",
            "Number of vowels in the string: 1\n"
          ]
        }
      ]
    },
    {
      "cell_type": "code",
      "source": [
        "n=input(\"Enter a string\")\n",
        "def vowels(n):\n",
        "    vowels=\"aeiouAEIOU\"\n",
        "    c=0\n",
        "    for i in n:\n",
        "        if i not in vowels:\n",
        "            c += 1\n",
        "    return c\n",
        "print(\"Number of consonants in the string:\",vowels(n) )\n"
      ],
      "metadata": {
        "colab": {
          "base_uri": "https://localhost:8080/"
        },
        "id": "HHlnKEDpRjnp",
        "outputId": "17983002-fb8c-47b8-cb98-56e92613e75d"
      },
      "execution_count": 3,
      "outputs": [
        {
          "output_type": "stream",
          "name": "stdout",
          "text": [
            "Enter a stringabc\n",
            "Number of consonants in the string: 2\n"
          ]
        }
      ]
    },
    {
      "cell_type": "code",
      "source": [
        "a = [\"Mumbai\", \"Hyd\",\"delhi\", \"Dubai\", \"Jaipur\", \"Kolkata\", \"Chennai\", \"Dadar\"]\n",
        "b = [50,40,30,20,100,350,280,200]\n",
        "c = dict(zip(a,b))\n",
        "print(c)"
      ],
      "metadata": {
        "colab": {
          "base_uri": "https://localhost:8080/"
        },
        "id": "9uNiUs8PRnue",
        "outputId": "2c0a21ea-9f36-4855-86c2-576397f32d6f"
      },
      "execution_count": 4,
      "outputs": [
        {
          "output_type": "stream",
          "name": "stdout",
          "text": [
            "{'Mumbai': 50, 'Hyd': 40, 'delhi': 30, 'Dubai': 20, 'Jaipur': 100, 'Kolkata': 350, 'Chennai': 280, 'Dadar': 200}\n"
          ]
        }
      ]
    },
    {
      "cell_type": "code",
      "source": [
        "s={'Mumbai': 50, 'Hyd': 40, 'delhi': 30, 'Dubai': 20, 'Jaipur': 100, 'Kolkata': 350, 'Chennai': 280, 'Dadar': 200}\n",
        "for i in s:\n",
        "    if s[i]<100:\n",
        "        print(i)"
      ],
      "metadata": {
        "colab": {
          "base_uri": "https://localhost:8080/"
        },
        "id": "XgvSMDEzRrAV",
        "outputId": "866bc184-ad9f-4442-b699-4fa2b70a6868"
      },
      "execution_count": 5,
      "outputs": [
        {
          "output_type": "stream",
          "name": "stdout",
          "text": [
            "Mumbai\n",
            "Hyd\n",
            "delhi\n",
            "Dubai\n"
          ]
        }
      ]
    }
  ]
}