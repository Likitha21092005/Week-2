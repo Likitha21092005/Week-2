{
  "nbformat": 4,
  "nbformat_minor": 0,
  "metadata": {
    "colab": {
      "provenance": [],
      "authorship_tag": "ABX9TyN/Z5SXEJ/8VmyqfR6mY6jw",
      "include_colab_link": true
    },
    "kernelspec": {
      "name": "python3",
      "display_name": "Python 3"
    },
    "language_info": {
      "name": "python"
    }
  },
  "cells": [
    {
      "cell_type": "markdown",
      "metadata": {
        "id": "view-in-github",
        "colab_type": "text"
      },
      "source": [
        "<a href=\"https://colab.research.google.com/github/Likitha21092005/Week2Day1/blob/main/one.ipynb\" target=\"_parent\"><img src=\"https://colab.research.google.com/assets/colab-badge.svg\" alt=\"Open In Colab\"/></a>"
      ]
    },
    {
      "cell_type": "code",
      "execution_count": 1,
      "metadata": {
        "colab": {
          "base_uri": "https://localhost:8080/"
        },
        "id": "Q-GCjjgtywyr",
        "outputId": "8073648e-2116-4c67-a212-8f7b7d92d49e"
      },
      "outputs": [
        {
          "output_type": "stream",
          "name": "stdout",
          "text": [
            "2\n",
            "Area of the circle is: 12.56\n"
          ]
        }
      ],
      "source": [
        "#Area of a circle\n",
        "r=eval(input())\n",
        "area=3.14*r*r\n",
        "print(\"Area of the circle is:\",area)"
      ]
    },
    {
      "cell_type": "code",
      "source": [
        "#Vowels count in a string\n",
        "a = input(\"Enter a string: \")\n",
        "vowels = 'aeiouAEIOU'\n",
        "count = 0\n",
        "for i in a:\n",
        "    if i in vowels:\n",
        "        count += 1\n",
        "print(\"Number of vowels:\", count)\n"
      ],
      "metadata": {
        "colab": {
          "base_uri": "https://localhost:8080/"
        },
        "id": "F3oIFhkky8-L",
        "outputId": "5ee48da7-fa73-4955-ca14-dee8a154db6b"
      },
      "execution_count": 2,
      "outputs": [
        {
          "output_type": "stream",
          "name": "stdout",
          "text": [
            "Enter a string: hi\n",
            "Number of vowels: 1\n"
          ]
        }
      ]
    },
    {
      "cell_type": "code",
      "source": [
        "#Consonants count in a string\n",
        "a = input(\"Enter a string: \")\n",
        "vowels ='aeiouAEIOU'\n",
        "count = 0\n",
        "for i in a:\n",
        "    if i not in vowels:\n",
        "        count += 1\n",
        "print(\"Number of consonants:\", count)\n"
      ],
      "metadata": {
        "colab": {
          "base_uri": "https://localhost:8080/"
        },
        "id": "8WfwUX6GzCC3",
        "outputId": "2f5c7c22-3515-42c4-8106-68906fea5700"
      },
      "execution_count": 3,
      "outputs": [
        {
          "output_type": "stream",
          "name": "stdout",
          "text": [
            "Enter a string: hi\n",
            "Number of consonants: 1\n"
          ]
        }
      ]
    },
    {
      "cell_type": "code",
      "source": [
        "a=[30,42,56,70,45,35]\n",
        "b=[]\n",
        "for i in a:\n",
        "    if i%5==0:\n",
        "        b.append(i-5)\n",
        "    else:\n",
        "        b.append(i)\n",
        "print(b)\n"
      ],
      "metadata": {
        "colab": {
          "base_uri": "https://localhost:8080/"
        },
        "id": "lqYj__VgzMZI",
        "outputId": "db89e527-e84d-4c62-ab8b-85a92f3d1702"
      },
      "execution_count": 4,
      "outputs": [
        {
          "output_type": "stream",
          "name": "stdout",
          "text": [
            "[25, 42, 56, 65, 40, 30]\n"
          ]
        }
      ]
    },
    {
      "cell_type": "code",
      "source": [
        "a=[23,24,45,67,99,54,20]\n",
        "c=[]\n",
        "d=[]\n",
        "for i in range(len(a)):\n",
        "    if i%2==0:\n",
        "        c.append(a[i])\n",
        "    else:\n",
        "        d.append(a[i])\n",
        "print(c)\n",
        "print(d)\n",
        "\n"
      ],
      "metadata": {
        "colab": {
          "base_uri": "https://localhost:8080/"
        },
        "id": "K1Fc-lJQzSo3",
        "outputId": "a68331fb-a643-4964-b390-d5a125069248"
      },
      "execution_count": 5,
      "outputs": [
        {
          "output_type": "stream",
          "name": "stdout",
          "text": [
            "[23, 45, 99, 20]\n",
            "[24, 67, 54]\n"
          ]
        }
      ]
    },
    {
      "cell_type": "code",
      "source": [
        "#Sum of the elements at odd and even indexes\n",
        "a=[20,35,45,30,60,75,85,45,25,40]\n",
        "c=[]\n",
        "d=[]\n",
        "for i in range(len(a)):\n",
        "    if i%2==0:\n",
        "        c.append(a[i])\n",
        "    else:\n",
        "        d.append(a[i])\n",
        "print(sum(c))\n",
        "print(sum(d))"
      ],
      "metadata": {
        "colab": {
          "base_uri": "https://localhost:8080/"
        },
        "id": "MPTNMWmxzXac",
        "outputId": "b61eeb21-d095-4ef1-f688-41886fefcbb2"
      },
      "execution_count": 6,
      "outputs": [
        {
          "output_type": "stream",
          "name": "stdout",
          "text": [
            "235\n",
            "225\n"
          ]
        }
      ]
    },
    {
      "cell_type": "code",
      "source": [
        "#Sum of odd and even indexes\n",
        "a=[20,35,45,30,60,75,85,45,25,40]\n",
        "c=[]\n",
        "d=[]\n",
        "for i in range(len(a)):\n",
        "    if i%2==0:\n",
        "        c.append(i)\n",
        "    else:\n",
        "        d.append(i)\n",
        "print(sum(c))\n",
        "print(sum(d))\n",
        "\n"
      ],
      "metadata": {
        "colab": {
          "base_uri": "https://localhost:8080/"
        },
        "id": "YFfS4SoDza14",
        "outputId": "f28da257-f877-45fc-f861-f0b5e03aab3f"
      },
      "execution_count": 7,
      "outputs": [
        {
          "output_type": "stream",
          "name": "stdout",
          "text": [
            "20\n",
            "25\n"
          ]
        }
      ]
    },
    {
      "cell_type": "code",
      "source": [
        "a=[\"Delhi\", \"dubai\", \"Dallas\", \"Dublin\",\"Cairo\", \"Chicago\", \"copenhagen\",\"Mumbai\", \"Madrid\", \"manila\",\"Karachi\", \"kyoto\", \"Kyiv\"]\n",
        "d=[]\n",
        "c=[]\n",
        "m=[]\n",
        "k=[]\n",
        "for i in a:\n",
        "    if i[0]=='D' or i[0]=='d':\n",
        "        d.append(i)\n",
        "    elif i[0]=='C' or i[0]=='c':\n",
        "        c.append(i)\n",
        "    elif i[0]=='M' or i[0]=='m':\n",
        "        m.append(i)\n",
        "    else:\n",
        "        k.append(i)\n",
        "\n",
        "print(d)\n",
        "print(c)\n",
        "print(m)\n",
        "print(k)\n"
      ],
      "metadata": {
        "colab": {
          "base_uri": "https://localhost:8080/"
        },
        "id": "13IPQOVnzdJD",
        "outputId": "6ab49bac-81a9-4d9b-f0dd-32b754e03d23"
      },
      "execution_count": 8,
      "outputs": [
        {
          "output_type": "stream",
          "name": "stdout",
          "text": [
            "['Delhi', 'dubai', 'Dallas', 'Dublin']\n",
            "['Cairo', 'Chicago', 'copenhagen']\n",
            "['Mumbai', 'Madrid', 'manila']\n",
            "['Karachi', 'kyoto', 'Kyiv']\n"
          ]
        }
      ]
    }
  ]
}